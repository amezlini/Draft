{
 "cells": [
  {
   "cell_type": "markdown",
   "id": "proper-wagon",
   "metadata": {},
   "source": [
    "## DSP-598 - ACM targeting list Centerstone offers\n",
    "* source: https://achievements.atlassian.net/browse/DSP-598\n",
    "\n",
    "* Criterion:\n",
    "  * Age : 18 to 64\n",
    "  * Zipcode within 30 mile radius of 90017\n",
    "      * Copy-pasted the zipcode list from JIRA ticket below"
   ]
  },
  {
   "cell_type": "code",
   "execution_count": 1,
   "id": "synthetic-phrase",
   "metadata": {},
   "outputs": [
    {
     "name": "stdout",
     "output_type": "stream",
     "text": [
      "N = 549\n"
     ]
    }
   ],
   "source": [
    "list_zipcode = [90017,90071,90070,90015,90057,90014,90099,90189,90030,90050,90051,90052,90053,90054,90055,90060,90072,90074,90075,90076,90078,90080,90081,90082,90083,90086,90087,90088,90093,90009,90079,90013,90006,90026,90012,90090,90007,90021,90089,90005,90010,90020,90011,90029,90033,90004,90031,90018,90096,90037,90062,90019,90038,90023,90063,90065,90058,90039,90028,90036,90027,90032,91204,90001,90016,90008,91205,90042,90255,90003,91209,91221,91222,91224,91225,91226,90043,90270,91210,90048,90041,90068,91754,90022,90211,90035,91203,90046,90044,91803,90069,90002,90091,90047,90305,90056,91030,90302,91393,90040,90201,90232,91608,91522,90231,90233,90209,90213,90034,90212,91804,91801,91031,91521,91523,90306,90307,90308,90309,90310,90312,90311,91202,91756,91206,91201,91105,91802,91896,91899,91714,91715,90067,90301,91716,90230,91123,91755,91506,90202,91602,91502,90280,90303,90061,91503,91507,91508,91510,91526,90059,90210,91207,91604,90064,90262,90640,91102,91109,91110,91114,91115,91116,91117,91118,91121,91124,91125,91126,91129,91182,91184,91185,91188,91189,91778,91103,91106,90024,91101,91208,90222,91108,90304,91505,91601,91776,90094,90025,90066,90095,90045,91501,90084,91770,91603,91609,91610,91611,91612,91614,91615,91616,91617,91618,90251,90073,90240,90250,91775,90661,90662,91021,90239,91504,91607,90249,91046,90247,90295,90223,90224,91020,90660,90241,91771,91772,90077,91012,91104,90242,91423,90292,91199,91606,90248,90294,90404,90405,90723,90291,91003,91733,90506,90220,91001,90245,91214,90221,90606,91413,90293,91107,90260,90296,90610,90261,90671,91731,91780,91353,91401,90049,90403,90504,91605,91495,90406,90407,90408,90409,90410,90411,90747,91352,91403,90746,91007,90401,90402,91734,91735,90267,90266,90278,90706,91043,91404,91407,91408,91409,91410,91470,91482,91496,91499,90601,90805,91334,91411,90607,90608,90609,91025,91732,91006,91066,91077,90707,91405,90602,90650,91024,90651,90652,90670,91041,90895,91436,90254,90502,90749,91416,91426,91746,91011,90503,90507,90508,90509,90510,90501,90745,90711,90714,91042,90712,91412,91402,90605,90807,91316,90272,91040,91406,90810,91745,91023,90713,91331,91017,90702,90701,90604,90277,90703,90603,91333,90637,91706,90806,90639,91009,91356,91343,90710,90808,90505,91016,90755,90638,90715,91346,91395,91747,91749,90717,91008,91357,91790,91337,91010,91341,91345,91793,91385,91335,91340,90716,90748,90623,90744,91744,91325,90813,90631,90804,91327,91328,91329,90831,90833,90621,90290,90815,91330,90622,90624,90632,90633,91371,90801,90809,90832,90842,90844,90846,90847,90848,90853,90274,91364,91392,90721,90840,91342,91722,90814,90620,91396,91394,90630,91306,91324,92833,91702,90275,91365,90720,91792,90264,91748,90732,90802,90731,91305,91308,91309,91791,91344,91723,90803,91303,91367,90822,90733,90734,91372,92801,91326,92809,91788,92835,90740,92845,92832,92822,91302,92821,92804,90680,91789,91724,91313,91321,92834,92836,92837,92838,91304,91740,92841,92831,90743,91311,92899,92803,92812,92814,92815,92816,92817,92825,92850,92684,91741,90263,92805,90742,92649,91765,92802,92871,91307,92683,91773,92685,92844,92842,92846,93563,92870,92840,92655,92647,91387,91768,91382,91386,92806,91322,92823,92811,92865,92843,92868,91351,92605,93064,92885,91766,93510,91350,91301,92703,93063,91376,91769,92886,92648,92706,92728,91381,92708,92856,92857,92859,92863,92864]\n",
    "print('N =', len(list_zipcode))"
   ]
  },
  {
   "cell_type": "code",
   "execution_count": 2,
   "id": "african-adaptation",
   "metadata": {},
   "outputs": [],
   "source": [
    "import pandas as pd"
   ]
  },
  {
   "cell_type": "code",
   "execution_count": 3,
   "id": "activated-style",
   "metadata": {},
   "outputs": [
    {
     "name": "stdout",
     "output_type": "stream",
     "text": [
      "Python implementation: CPython\n",
      "Python version       : 3.7.4\n",
      "IPython version      : 7.20.0\n",
      "\n",
      "pandas: 1.2.1\n",
      "\n"
     ]
    }
   ],
   "source": [
    "%load_ext watermark\n",
    "%watermark -v -p pandas"
   ]
  },
  {
   "cell_type": "markdown",
   "id": "sudden-liechtenstein",
   "metadata": {},
   "source": [
    "### Load survey snapshot for given date"
   ]
  },
  {
   "cell_type": "code",
   "execution_count": 6,
   "id": "foreign-storage",
   "metadata": {},
   "outputs": [],
   "source": [
    "SELECT_DATE = '2021-02-02'"
   ]
  },
  {
   "cell_type": "code",
   "execution_count": 10,
   "id": "nonprofit-stevens",
   "metadata": {},
   "outputs": [
    {
     "name": "stdout",
     "output_type": "stream",
     "text": [
      "(1277547, 19)\n",
      "N = 1273745\n",
      "Index(['user_id', 'gender', 'age', 'physical_health', 'quality_of_life',\n",
      "       'general_health', 'mental_health', 'have_children', 'education',\n",
      "       'relationship_status', 'motivation_for_joining', 'weight',\n",
      "       'health_challenge', 'zipcode', 'hear_about_achievemint',\n",
      "       'height_inches', 'race', 'ts', 'bmi'],\n",
      "      dtype='object')\n"
     ]
    }
   ],
   "source": [
    "df_demog = pd.read_parquet(f'/mnt/data/survey_snapshots/{SELECT_DATE}_health_survey.parquet')\n",
    "print(df_demog.shape)\n",
    "print('N =', df_demog.user_id.nunique())\n",
    "print(df_demog.columns)"
   ]
  },
  {
   "cell_type": "markdown",
   "id": "still-interim",
   "metadata": {},
   "source": [
    "#### Only 29K of the 1.2M live in the selected zipcodes"
   ]
  },
  {
   "cell_type": "code",
   "execution_count": 8,
   "id": "boxed-celebrity",
   "metadata": {},
   "outputs": [
    {
     "data": {
      "text/plain": [
       "29176"
      ]
     },
     "execution_count": 8,
     "metadata": {},
     "output_type": "execute_result"
    }
   ],
   "source": [
    "(df_demog.zipcode.isin(list_zipcode)).sum()"
   ]
  },
  {
   "cell_type": "markdown",
   "id": "informational-brand",
   "metadata": {},
   "source": [
    "#### Only 425 out of 549 provided zipcodes are in survey "
   ]
  },
  {
   "cell_type": "code",
   "execution_count": 9,
   "id": "loaded-northern",
   "metadata": {},
   "outputs": [
    {
     "data": {
      "text/plain": [
       "425"
      ]
     },
     "execution_count": 9,
     "metadata": {},
     "output_type": "execute_result"
    }
   ],
   "source": [
    "df_demog.zipcode[df_demog.zipcode.isin(list_zipcode)].nunique()"
   ]
  },
  {
   "cell_type": "markdown",
   "id": "spatial-advertising",
   "metadata": {},
   "source": [
    "### Age 18 - 64 -- use `groupby` to catch multiple entries per UID"
   ]
  },
  {
   "cell_type": "code",
   "execution_count": 11,
   "id": "apparent-arizona",
   "metadata": {},
   "outputs": [
    {
     "name": "stdout",
     "output_type": "stream",
     "text": [
      "Age 18-64 & zipcode match, N =  28804\n"
     ]
    }
   ],
   "source": [
    "list_uid = list(set(df_demog.query('(age >= 18) & (age <=64) & (zipcode == @list_zipcode)')['user_id']))\n",
    "print('Age 18-64 & zipcode match, N = ', len(list_uid))"
   ]
  },
  {
   "cell_type": "markdown",
   "id": "several-opportunity",
   "metadata": {},
   "source": [
    "### Save results to `/mnt/artifacts/results` for later download"
   ]
  },
  {
   "cell_type": "code",
   "execution_count": 12,
   "id": "utility-surgeon",
   "metadata": {},
   "outputs": [],
   "source": [
    "pd.DataFrame(list_uid, columns=['user_id']).to_csv('/mnt/artifacts/results/dsp598_01_centerstone_targeting_list_zc90017_n28804.csv', index=None)"
   ]
  }
 ],
 "metadata": {
  "kernelspec": {
   "display_name": "Python 3",
   "language": "python",
   "name": "python3"
  },
  "language_info": {
   "codemirror_mode": {
    "name": "ipython",
    "version": 3
   },
   "file_extension": ".py",
   "mimetype": "text/x-python",
   "name": "python",
   "nbconvert_exporter": "python",
   "pygments_lexer": "ipython3",
   "version": "3.7.4"
  }
 },
 "nbformat": 4,
 "nbformat_minor": 5
}
