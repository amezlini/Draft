{
 "cells": [
  {
   "cell_type": "markdown",
   "metadata": {},
   "source": [
    "## DSP-634 - Master targeting lists for CENTERSTONE\n",
    "* source: https://achievements.atlassian.net/browse/DSP-634\n",
    "* Criterion:\n",
    "  * Age : 18 to 64\n",
    "  * Age 18-64\n",
    "  * Must reside in any of the zip codes listed in column D on this sheet.\n"
   ]
  },
  {
   "cell_type": "code",
   "execution_count": 4,
   "metadata": {},
   "outputs": [],
   "source": [
    "import pandas as pd"
   ]
  },
  {
   "cell_type": "code",
   "execution_count": 18,
   "metadata": {},
   "outputs": [],
   "source": [
    "list_zipcode_file = pd.read_csv(\"/repos/amezlini_Draft/Zipcodes_CENTERSTONE_Study.tsv\", sep = '\\t',skiprows=1)"
   ]
  },
  {
   "cell_type": "code",
   "execution_count": 21,
   "metadata": {},
   "outputs": [
    {
     "name": "stdout",
     "output_type": "stream",
     "text": [
      "N = 4324\n",
      "N = 3390\n"
     ]
    }
   ],
   "source": [
    "list_zipcode = sum([sub.split(\",\") for sub in list_zipcode_file['Zip Codes Within 30 miles']],[])\n",
    "print('N =', len(list_zipcode))\n",
    "print('N =', len(pd.unique(list_zipcode)))"
   ]
  },
  {
   "cell_type": "code",
   "execution_count": 3,
   "metadata": {},
   "outputs": [
    {
     "name": "stdout",
     "output_type": "stream",
     "text": [
      "Python implementation: CPython\n",
      "Python version       : 3.7.4\n",
      "IPython version      : 7.20.0\n",
      "\n",
      "pandas: 1.2.1\n",
      "\n"
     ]
    }
   ],
   "source": [
    "%load_ext watermark\n",
    "%watermark -v -p pandas"
   ]
  },
  {
   "cell_type": "markdown",
   "metadata": {},
   "source": [
    "### Load survey snapshot for given date"
   ]
  },
  {
   "cell_type": "code",
   "execution_count": 6,
   "metadata": {},
   "outputs": [],
   "source": [
    "SELECT_DATE = '2021-02-02'"
   ]
  },
  {
   "cell_type": "code",
   "execution_count": 10,
   "metadata": {},
   "outputs": [
    {
     "name": "stdout",
     "output_type": "stream",
     "text": [
      "(1277547, 19)\n",
      "N = 1273745\n",
      "Index(['user_id', 'gender', 'age', 'physical_health', 'quality_of_life',\n",
      "       'general_health', 'mental_health', 'have_children', 'education',\n",
      "       'relationship_status', 'motivation_for_joining', 'weight',\n",
      "       'health_challenge', 'zipcode', 'hear_about_achievemint',\n",
      "       'height_inches', 'race', 'ts', 'bmi'],\n",
      "      dtype='object')\n"
     ]
    }
   ],
   "source": [
    "df_demog = pd.read_parquet(f'/mnt/data/survey_snapshots/{SELECT_DATE}_health_survey.parquet')\n",
    "print(df_demog.shape)\n",
    "print('N =', df_demog.user_id.nunique())\n",
    "print(df_demog.columns)"
   ]
  },
  {
   "cell_type": "markdown",
   "metadata": {},
   "source": [
    "#### Only 29K of the 1.2M live in the selected zipcodes"
   ]
  },
  {
   "cell_type": "code",
   "execution_count": 8,
   "metadata": {},
   "outputs": [
    {
     "data": {
      "text/plain": [
       "29176"
      ]
     },
     "execution_count": 8,
     "metadata": {},
     "output_type": "execute_result"
    }
   ],
   "source": [
    "(df_demog.zipcode.isin(list_zipcode)).sum()"
   ]
  },
  {
   "cell_type": "markdown",
   "metadata": {},
   "source": [
    "#### Only 425 out of 549 provided zipcodes are in survey "
   ]
  },
  {
   "cell_type": "code",
   "execution_count": 9,
   "metadata": {},
   "outputs": [
    {
     "data": {
      "text/plain": [
       "425"
      ]
     },
     "execution_count": 9,
     "metadata": {},
     "output_type": "execute_result"
    }
   ],
   "source": [
    "df_demog.zipcode[df_demog.zipcode.isin(list_zipcode)].nunique()"
   ]
  },
  {
   "cell_type": "markdown",
   "metadata": {},
   "source": [
    "### Age 18 - 64 -- use `groupby` to catch multiple entries per UID"
   ]
  },
  {
   "cell_type": "code",
   "execution_count": 11,
   "metadata": {},
   "outputs": [
    {
     "name": "stdout",
     "output_type": "stream",
     "text": [
      "Age 18-64 & zipcode match, N =  28804\n"
     ]
    }
   ],
   "source": [
    "list_uid = list(set(df_demog.query('(age >= 18) & (age <=64) & (zipcode == @list_zipcode)')['user_id']))\n",
    "print('Age 18-64 & zipcode match, N = ', len(list_uid))"
   ]
  },
  {
   "cell_type": "markdown",
   "metadata": {},
   "source": [
    "### Save results to `/mnt/artifacts/results` for later download"
   ]
  },
  {
   "cell_type": "code",
   "execution_count": 12,
   "metadata": {},
   "outputs": [],
   "source": [
    "pd.DataFrame(list_uid, columns=['user_id']).to_csv('/mnt/artifacts/results/dsp598_01_centerstone_targeting_list_zc90017_n28804.csv', index=None)"
   ]
  }
 ],
 "metadata": {
  "kernelspec": {
   "display_name": "Python 3",
   "language": "python",
   "name": "python3"
  },
  "language_info": {
   "codemirror_mode": {
    "name": "ipython",
    "version": 3
   },
   "file_extension": ".py",
   "mimetype": "text/x-python",
   "name": "python",
   "nbconvert_exporter": "python",
   "pygments_lexer": "ipython3",
   "version": "3.7.4"
  }
 },
 "nbformat": 4,
 "nbformat_minor": 5
}
